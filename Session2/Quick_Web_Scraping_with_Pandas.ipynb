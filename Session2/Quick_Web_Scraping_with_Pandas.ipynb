{
 "cells": [
  {
   "cell_type": "code",
   "execution_count": 1,
   "id": "a00fe8f5",
   "metadata": {},
   "outputs": [],
   "source": [
    "import pandas as pd"
   ]
  },
  {
   "cell_type": "code",
   "execution_count": 2,
   "id": "3a87ca23",
   "metadata": {},
   "outputs": [],
   "source": [
    "verbs = pd.read_html(\"https://www.wse.com.tr/blog/irregular-verbs-duzensiz-fiiller/\")"
   ]
  },
  {
   "cell_type": "markdown",
   "id": "4e0fae35",
   "metadata": {},
   "source": [
    "    -Errors-\n",
    "ImportError: html5lib not found, please install it\n",
    "pip install html5lib\n",
    "\n",
    "ValueError: No tables found\n",
    "\n",
    "urllib.error.HTTPError: HTTP Error 403: Forbidden"
   ]
  },
  {
   "cell_type": "markdown",
   "id": "ba595fe5",
   "metadata": {},
   "source": [
    "!pip install html5lib"
   ]
  },
  {
   "cell_type": "code",
   "execution_count": 3,
   "id": "ed61c3f9",
   "metadata": {},
   "outputs": [
    {
     "data": {
      "text/html": [
       "<div>\n",
       "<style scoped>\n",
       "    .dataframe tbody tr th:only-of-type {\n",
       "        vertical-align: middle;\n",
       "    }\n",
       "\n",
       "    .dataframe tbody tr th {\n",
       "        vertical-align: top;\n",
       "    }\n",
       "\n",
       "    .dataframe thead th {\n",
       "        text-align: right;\n",
       "    }\n",
       "</style>\n",
       "<table border=\"1\" class=\"dataframe\">\n",
       "  <thead>\n",
       "    <tr style=\"text-align: right;\">\n",
       "      <th></th>\n",
       "      <th>0</th>\n",
       "      <th>1</th>\n",
       "      <th>2</th>\n",
       "      <th>3</th>\n",
       "    </tr>\n",
       "  </thead>\n",
       "  <tbody>\n",
       "    <tr>\n",
       "      <th>0</th>\n",
       "      <td>V1 – Base Form</td>\n",
       "      <td>V2 – Past Simple</td>\n",
       "      <td>V3 – Past Participle</td>\n",
       "      <td>Türkçe Anlamı</td>\n",
       "    </tr>\n",
       "    <tr>\n",
       "      <th>1</th>\n",
       "      <td>awake</td>\n",
       "      <td>awoke</td>\n",
       "      <td>awoken</td>\n",
       "      <td>uyandırmak</td>\n",
       "    </tr>\n",
       "    <tr>\n",
       "      <th>2</th>\n",
       "      <td>be</td>\n",
       "      <td>was, were</td>\n",
       "      <td>been</td>\n",
       "      <td>olmak</td>\n",
       "    </tr>\n",
       "    <tr>\n",
       "      <th>3</th>\n",
       "      <td>beat</td>\n",
       "      <td>beat</td>\n",
       "      <td>beaten</td>\n",
       "      <td>vurmak</td>\n",
       "    </tr>\n",
       "    <tr>\n",
       "      <th>4</th>\n",
       "      <td>become</td>\n",
       "      <td>became</td>\n",
       "      <td>become</td>\n",
       "      <td>olmak</td>\n",
       "    </tr>\n",
       "    <tr>\n",
       "      <th>...</th>\n",
       "      <td>...</td>\n",
       "      <td>...</td>\n",
       "      <td>...</td>\n",
       "      <td>...</td>\n",
       "    </tr>\n",
       "    <tr>\n",
       "      <th>93</th>\n",
       "      <td>understand</td>\n",
       "      <td>understood</td>\n",
       "      <td>understood</td>\n",
       "      <td>anlamak</td>\n",
       "    </tr>\n",
       "    <tr>\n",
       "      <th>94</th>\n",
       "      <td>wake</td>\n",
       "      <td>woke</td>\n",
       "      <td>woken</td>\n",
       "      <td>uyanmak</td>\n",
       "    </tr>\n",
       "    <tr>\n",
       "      <th>95</th>\n",
       "      <td>wear</td>\n",
       "      <td>wore</td>\n",
       "      <td>worn</td>\n",
       "      <td>giymek</td>\n",
       "    </tr>\n",
       "    <tr>\n",
       "      <th>96</th>\n",
       "      <td>win</td>\n",
       "      <td>won</td>\n",
       "      <td>won</td>\n",
       "      <td>kazanmak</td>\n",
       "    </tr>\n",
       "    <tr>\n",
       "      <th>97</th>\n",
       "      <td>write</td>\n",
       "      <td>wrote</td>\n",
       "      <td>written</td>\n",
       "      <td>yazmak</td>\n",
       "    </tr>\n",
       "  </tbody>\n",
       "</table>\n",
       "<p>98 rows × 4 columns</p>\n",
       "</div>"
      ],
      "text/plain": [
       "                 0                 1                     2              3\n",
       "0   V1 – Base Form  V2 – Past Simple  V3 – Past Participle  Türkçe Anlamı\n",
       "1            awake             awoke                awoken     uyandırmak\n",
       "2               be         was, were                  been          olmak\n",
       "3             beat              beat                beaten         vurmak\n",
       "4           become            became                become          olmak\n",
       "..             ...               ...                   ...            ...\n",
       "93      understand        understood            understood        anlamak\n",
       "94            wake              woke                 woken        uyanmak\n",
       "95            wear              wore                  worn         giymek\n",
       "96             win               won                   won       kazanmak\n",
       "97           write             wrote               written         yazmak\n",
       "\n",
       "[98 rows x 4 columns]"
      ]
     },
     "execution_count": 3,
     "metadata": {},
     "output_type": "execute_result"
    }
   ],
   "source": [
    "verbs[0]"
   ]
  }
 ],
 "metadata": {
  "kernelspec": {
   "display_name": "Python 3 (ipykernel)",
   "language": "python",
   "name": "python3"
  },
  "language_info": {
   "codemirror_mode": {
    "name": "ipython",
    "version": 3
   },
   "file_extension": ".py",
   "mimetype": "text/x-python",
   "name": "python",
   "nbconvert_exporter": "python",
   "pygments_lexer": "ipython3",
   "version": "3.9.13"
  }
 },
 "nbformat": 4,
 "nbformat_minor": 5
}
