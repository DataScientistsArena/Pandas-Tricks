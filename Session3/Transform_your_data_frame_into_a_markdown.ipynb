{
  "nbformat": 4,
  "nbformat_minor": 0,
  "metadata": {
    "colab": {
      "provenance": []
    },
    "kernelspec": {
      "name": "python3",
      "display_name": "Python 3"
    },
    "language_info": {
      "name": "python"
    }
  },
  "cells": [
    {
      "cell_type": "code",
      "source": [
        "import pandas as pd\n",
        "# Data URL\n",
        "data_URL = \"https://raw.githubusercontent.com/keitazoumana/Experimentation-Data/main/vgsales.csv\"\n",
        "# Read as a dataframe\n",
        "video_game_data = pd.read_csv(data_URL)\n",
        "# Get the first 5 rows\n",
        "head_df = video_game_data.head()\n",
        "# Printing your dataframe \n",
        "print (head_df)"
      ],
      "metadata": {
        "colab": {
          "base_uri": "https://localhost:8080/"
        },
        "id": "OxrlzOP9R7zQ",
        "outputId": "e44875aa-4638-401d-c5bc-b8e1c7b229e6"
      },
      "execution_count": null,
      "outputs": [
        {
          "output_type": "stream",
          "name": "stdout",
          "text": [
            "   Rank                      Name Platform    Year         Genre Publisher  \\\n",
            "0     1                Wii Sports      Wii  2006.0        Sports  Nintendo   \n",
            "1     2         Super Mario Bros.      NES  1985.0      Platform  Nintendo   \n",
            "2     3            Mario Kart Wii      Wii  2008.0        Racing  Nintendo   \n",
            "3     4         Wii Sports Resort      Wii  2009.0        Sports  Nintendo   \n",
            "4     5  Pokemon Red/Pokemon Blue       GB  1996.0  Role-Playing  Nintendo   \n",
            "\n",
            "   NA_Sales  EU_Sales  JP_Sales  Other_Sales  Global_Sales  \n",
            "0     41.49     29.02      3.77         8.46         82.74  \n",
            "1     29.08      3.58      6.81         0.77         40.24  \n",
            "2     15.85     12.88      3.79         3.31         35.82  \n",
            "3     15.75     11.01      3.28         2.96         33.00  \n",
            "4     11.27      8.89     10.22         1.00         31.37  \n"
          ]
        }
      ]
    },
    {
      "cell_type": "code",
      "source": [
        "print(head_df.to_markdown(tablefmt=\"grid\"))"
      ],
      "metadata": {
        "colab": {
          "base_uri": "https://localhost:8080/"
        },
        "id": "7STrTaO7ShFc",
        "outputId": "2a6dd955-a496-4ee1-a637-2de2d390062a"
      },
      "execution_count": null,
      "outputs": [
        {
          "output_type": "stream",
          "name": "stdout",
          "text": [
            "+----+--------+--------------------------+------------+--------+--------------+-------------+------------+------------+------------+---------------+----------------+\n",
            "|    |   Rank | Name                     | Platform   |   Year | Genre        | Publisher   |   NA_Sales |   EU_Sales |   JP_Sales |   Other_Sales |   Global_Sales |\n",
            "+====+========+==========================+============+========+==============+=============+============+============+============+===============+================+\n",
            "|  0 |      1 | Wii Sports               | Wii        |   2006 | Sports       | Nintendo    |      41.49 |      29.02 |       3.77 |          8.46 |          82.74 |\n",
            "+----+--------+--------------------------+------------+--------+--------------+-------------+------------+------------+------------+---------------+----------------+\n",
            "|  1 |      2 | Super Mario Bros.        | NES        |   1985 | Platform     | Nintendo    |      29.08 |       3.58 |       6.81 |          0.77 |          40.24 |\n",
            "+----+--------+--------------------------+------------+--------+--------------+-------------+------------+------------+------------+---------------+----------------+\n",
            "|  2 |      3 | Mario Kart Wii           | Wii        |   2008 | Racing       | Nintendo    |      15.85 |      12.88 |       3.79 |          3.31 |          35.82 |\n",
            "+----+--------+--------------------------+------------+--------+--------------+-------------+------------+------------+------------+---------------+----------------+\n",
            "|  3 |      4 | Wii Sports Resort        | Wii        |   2009 | Sports       | Nintendo    |      15.75 |      11.01 |       3.28 |          2.96 |          33    |\n",
            "+----+--------+--------------------------+------------+--------+--------------+-------------+------------+------------+------------+---------------+----------------+\n",
            "|  4 |      5 | Pokemon Red/Pokemon Blue | GB         |   1996 | Role-Playing | Nintendo    |      11.27 |       8.89 |      10.22 |          1    |          31.37 |\n",
            "+----+--------+--------------------------+------------+--------+--------------+-------------+------------+------------+------------+---------------+----------------+\n"
          ]
        }
      ]
    }
  ]
}