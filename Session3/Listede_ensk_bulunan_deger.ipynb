{
 "cells": [
  {
   "cell_type": "code",
   "execution_count": 1,
   "id": "037a0491-8946-436e-b340-a9d79eb9639f",
   "metadata": {},
   "outputs": [
    {
     "data": {
      "text/plain": [
       "'ışık'"
      ]
     },
     "execution_count": 1,
     "metadata": {},
     "output_type": "execute_result"
    }
   ],
   "source": [
    "winners=[\"ela\",\"ışık\",\"ela\",\"merve\",\"ışık\",\"ışık\"]\n",
    "max(set(winners),key=winners.count)"
   ]
  },
  {
   "cell_type": "code",
   "execution_count": 1,
   "id": "573ebd62-5430-469c-94d5-154bace90bcc",
   "metadata": {},
   "outputs": [
    {
     "data": {
      "text/plain": [
       "'ışık'"
      ]
     },
     "execution_count": 1,
     "metadata": {},
     "output_type": "execute_result"
    }
   ],
   "source": [
    "winners=[\"ela\",\"ışık\",\"ela\",\"merve\",\"ışık\",\"ışık\"]\n",
    "max((winners),key=winners.count)"
   ]
  },
  {
   "cell_type": "code",
   "execution_count": null,
   "id": "755fe27f-7fb1-40c1-8696-bc8045c86f34",
   "metadata": {},
   "outputs": [],
   "source": []
  }
 ],
 "metadata": {
  "kernelspec": {
   "display_name": "Python 3 (ipykernel)",
   "language": "python",
   "name": "python3"
  },
  "language_info": {
   "codemirror_mode": {
    "name": "ipython",
    "version": 3
   },
   "file_extension": ".py",
   "mimetype": "text/x-python",
   "name": "python",
   "nbconvert_exporter": "python",
   "pygments_lexer": "ipython3",
   "version": "3.9.12"
  }
 },
 "nbformat": 4,
 "nbformat_minor": 5
}
